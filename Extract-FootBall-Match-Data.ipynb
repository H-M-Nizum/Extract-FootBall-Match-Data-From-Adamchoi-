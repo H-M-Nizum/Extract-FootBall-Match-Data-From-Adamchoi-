{
 "cells": [
  {
   "cell_type": "markdown",
   "id": "ee3269b9-9b54-434d-870f-c23c73f01277",
   "metadata": {},
   "source": [
    "## 1. Load a website using Selenium\n",
    "- Local Chrome Driver path = `E:/Download/Driver/chromedriver.exe`\n",
    "- Website URL = `https://www.adamchoi.co.uk/overs/detailed`d`\r\n"
   ]
  },
  {
   "cell_type": "code",
   "execution_count": 48,
   "id": "75ce9322-d60a-409f-8c53-8045fa7e1b56",
   "metadata": {},
   "outputs": [],
   "source": [
    "from selenium import webdriver\n",
    "from selenium.webdriver.chrome.service import Service\n",
    "from selenium.webdriver.common.by import By\n",
    "from selenium.webdriver.support.ui import Select\n",
    "import pandas as pd"
   ]
  },
  {
   "cell_type": "code",
   "execution_count": 49,
   "id": "8046fa24-f75f-4d85-8b6b-f9a0ee78a396",
   "metadata": {},
   "outputs": [],
   "source": [
    "# Set up the WebDriver \n",
    "driver_path = 'E:/Dowmnload/Driver/chromedriver.exe' \n",
    "service = Service(driver_path)  # Create a Service object\n",
    "\n",
    "# Initialize the WebDriver using the Service object\n",
    "driver = webdriver.Chrome(service=service)\n",
    "\n",
    "# Load the website\n",
    "url = 'https://www.adamchoi.co.uk/overs/detailed'\n",
    "driver.get(url)"
   ]
  },
  {
   "cell_type": "markdown",
   "id": "170974aa-73ab-4e2f-b2f9-fa697326dc3d",
   "metadata": {},
   "source": [
    "## 2. CLick All Match Button And Show All Match"
   ]
  },
  {
   "cell_type": "code",
   "execution_count": 50,
   "id": "375f3f3c-e119-4491-89ae-b8165a470a38",
   "metadata": {},
   "outputs": [],
   "source": [
    "all_match = driver.find_element(By.XPATH, \"\"\"//*[@id=\"page-wrapper\"]/div/home-away-selector/div/div/div/div/label[2]\"\"\")\n",
    "all_match.click()"
   ]
  },
  {
   "cell_type": "markdown",
   "id": "eb7feb01-bffe-48dc-aefb-9bff3b368650",
   "metadata": {},
   "source": [
    "## 3.Take Input for different Country Name And set it in webpage.\n",
    "- Country -> England, Spain, Germany, Italy, France, Argentian, Brazil, USA, Saudi Arabia etc."
   ]
  },
  {
   "cell_type": "code",
   "execution_count": 51,
   "id": "031988df-e2df-4e73-b6d2-6efa5663158a",
   "metadata": {},
   "outputs": [
    {
     "name": "stdin",
     "output_type": "stream",
     "text": [
      "Enter a football Country like header Name :  Spain\n"
     ]
    }
   ],
   "source": [
    "country = input('Enter a football Country like header Name : ')\n",
    "dropdown_country = Select(driver.find_element(By.ID, \"country\"))\n",
    "try:\n",
    "    dropdown_country.select_by_visible_text(country)\n",
    "except:\n",
    "    print(\"Enter a Correct Country Name Like Previous Markdown.\")\n",
    "    dropdown_country.select_by_visible_text('Spain')"
   ]
  },
  {
   "cell_type": "markdown",
   "id": "fb595079-cf7d-4c5b-b1f6-f747966492db",
   "metadata": {},
   "source": [
    "## 4. Selecting Elements Within a DropDown Manue And Get all dropdown values"
   ]
  },
  {
   "cell_type": "code",
   "execution_count": 52,
   "id": "e1652a58-febe-453b-9bd3-9396d31a0bf0",
   "metadata": {},
   "outputs": [
    {
     "name": "stdout",
     "output_type": "stream",
     "text": [
      "Spain League's -\n",
      "La Liga\n",
      "Segunda Division\n",
      "Primera Division Women\n",
      "\n",
      "Spain Season's -\n",
      "2024/2025\n",
      "23/24\n",
      "22/23\n",
      "21/22\n"
     ]
    }
   ],
   "source": [
    "dropdown_league = Select(driver.find_element(By.ID, \"league\"))\n",
    "# Get all dropdown values (options)\n",
    "all_league = dropdown_league.options\n",
    "# Loop through the options and print the text of each option\n",
    "print(country, \"League's -\")\n",
    "for option in all_league:\n",
    "    print(option.text)\n",
    "\n",
    "print()\n",
    "\n",
    "dropdown_season = Select(driver.find_element(By.ID, \"season\"))\n",
    "# Get all dropdown values (options)\n",
    "all_season = dropdown_season.options\n",
    "# Loop through the options and print the text of each option\n",
    "print(country, \"Season's -\")\n",
    "for option in all_season:\n",
    "    print(option.text)"
   ]
  },
  {
   "cell_type": "markdown",
   "id": "4a1442b4-0d12-48c2-ae58-5f067b12bb7c",
   "metadata": {},
   "source": [
    "## 5. Take Input for League And Season"
   ]
  },
  {
   "cell_type": "code",
   "execution_count": 55,
   "id": "07b68337-91a2-4a03-aae2-ec2c0ec0239d",
   "metadata": {},
   "outputs": [
    {
     "name": "stdin",
     "output_type": "stream",
     "text": [
      "Enter a Football League like Previous Output :  ddd\n",
      "Enter a Football Season like Previous Output :  34\n"
     ]
    }
   ],
   "source": [
    "league = input('Enter a Football League like Previous Output : ')\n",
    "season = input('Enter a Football Season like Previous Output : ')"
   ]
  },
  {
   "cell_type": "markdown",
   "id": "4841a2bb-310f-4112-b998-fae236333536",
   "metadata": {},
   "source": [
    "## 6. Search with League and Season"
   ]
  },
  {
   "cell_type": "code",
   "execution_count": 56,
   "id": "5bf70f61-6044-4014-bfc3-24c5e55cc177",
   "metadata": {},
   "outputs": [
    {
     "name": "stdout",
     "output_type": "stream",
     "text": [
      "Enter a Correct League Like Previous Output. La Liga\n",
      "Enter a Correct Season Like Previous Output.\n"
     ]
    }
   ],
   "source": [
    "# dropdown_league = Select(driver.find_element(By.ID, \"league\"))\n",
    "# dropdown_season = Select(driver.find_element(By.ID, \"season\"))\n",
    "from selenium.common.exceptions import StaleElementReferenceException, NoSuchElementException, TimeoutException\n",
    "\n",
    "try:\n",
    "    dropdown_league.select_by_visible_text(league)\n",
    "except(NoSuchElementException, TimeoutException, StaleElementReferenceException):\n",
    "    print(\"Enter a Correct League Like Previous Output.\", all_league[0].text)\n",
    "    dropdown_league.select_by_visible_text(all_league[0].text)\n",
    "try:\n",
    "    dropdown_season.select_by_visible_text(season)\n",
    "except(NoSuchElementException, TimeoutException, StaleElementReferenceException):\n",
    "    print(\"Enter a Correct Season Like Previous Output.\")\n",
    "    dropdown_season.select_by_visible_text(all_season[0].text)\n",
    "\n",
    "\n"
   ]
  },
  {
   "cell_type": "markdown",
   "id": "33caf56a-2e50-45c8-9250-5339d1e03b9c",
   "metadata": {},
   "source": [
    "## 7. Collect All FootBall Match Record"
   ]
  },
  {
   "cell_type": "code",
   "execution_count": 59,
   "id": "6f647691-292c-4d69-9b43-0f2eafd86e3f",
   "metadata": {},
   "outputs": [
    {
     "name": "stdout",
     "output_type": "stream",
     "text": [
      "['16-08-2024, Celta, 2 - 1, Alaves', '25-08-2024, Alaves, 0 - 0, Betis', '28-08-2024, Sociedad, 1 - 2, Alaves', '01-09-2024, Alaves, 2 - 0, Las Palmas', '14-09-2024, Espanol, 3 - 2, Alaves', '20-09-2024, Alaves, 2 - 1, Sevilla', 'Next match: 25-09-2024 Real Madrid vs Alaves, , , ', 'Next match O/U 2.5 odds vs Real Madrid\\n1.53, , , ', '15-08-2024, Ath Bilbao, 1 - 1, Getafe', '24-08-2024, Barcelona, 2 - 1, Ath Bilbao', '28-08-2024, Ath Bilbao, 1 - 0, Valencia', '31-08-2024, Ath Bilbao, 0 - 1, Ath Madrid', '15-09-2024, Las Palmas, 2 - 3, Ath Bilbao', '19-09-2024, Leganes, 0 - 2, Ath Bilbao', 'Next match: 22-09-2024 Ath Bilbao vs Celta, , , ', 'Next match O/U 2.5 odds vs Celta\\n1.73, , , ', '19-08-2024, Villarreal, 2 - 2, Ath Madrid', '25-08-2024, Ath Madrid, 3 - 0, Girona', '28-08-2024, Ath Madrid, 0 - 0, Espanol', '31-08-2024, Ath Bilbao, 0 - 1, Ath Madrid', '15-09-2024, Ath Madrid, 3 - 0, Valencia', 'Next match: 23-09-2024 Vallecano vs Ath Madrid, , , ', 'Next match O/U 2.5 odds vs Vallecano\\n2.20, , , ', '17-08-2024, Valencia, 1 - 2, Barcelona', '24-08-2024, Barcelona, 2 - 1, Ath Bilbao', '27-08-2024, Vallecano, 1 - 2, Barcelona', '31-08-2024, Barcelona, 7 - 0, Valladolid', '15-09-2024, Girona, 1 - 4, Barcelona', 'Next match: 22-09-2024 Villarreal vs Barcelona, , , ', 'Next match O/U 2.5 odds vs Villarreal\\n1.40, , , ', '15-08-2024, Betis, 1 - 1, Girona', '25-08-2024, Alaves, 0 - 0, Betis', '01-09-2024, Real Madrid, 2 - 0, Betis', '13-09-2024, Betis, 2 - 0, Leganes', '18-09-2024, Betis, 2 - 1, Getafe', 'Next match: 24-09-2024 Betis vs Mallorca, , , ', 'Next match O/U 2.5 odds vs Mallorca\\n2.50, , , ', '16-08-2024, Celta, 2 - 1, Alaves', '23-08-2024, Celta, 3 - 1, Valencia', '26-08-2024, Villarreal, 4 - 3, Celta', '01-09-2024, Osasuna, 3 - 2, Celta', '15-09-2024, Celta, 3 - 1, Valladolid', 'Next match: 22-09-2024 Ath Bilbao vs Celta, , , ', 'Next match O/U 2.5 odds vs Ath Bilbao\\n1.73, , , ', '19-08-2024, Valladolid, 1 - 0, Espanol', '24-08-2024, Espanol, 0 - 1, Sociedad', '28-08-2024, Ath Madrid, 0 - 0, Espanol', '31-08-2024, Espanol, 2 - 1, Vallecano', '14-09-2024, Espanol, 3 - 2, Alaves', '21-09-2024, Real Madrid, 4 - 1, Espanol', '15-08-2024, Ath Bilbao, 1 - 1, Getafe', '24-08-2024, Getafe, 0 - 0, Vallecano', '01-09-2024, Getafe, 0 - 0, Sociedad', '14-09-2024, Sevilla, 1 - 0, Getafe', '18-09-2024, Betis, 2 - 1, Getafe', 'Next match: 22-09-2024 Getafe vs Leganes, , , ', 'Next match O/U 2.5 odds vs Leganes\\n3.40, , , ', '15-08-2024, Betis, 1 - 1, Girona', '25-08-2024, Ath Madrid, 3 - 0, Girona', '29-08-2024, Girona, 4 - 0, Osasuna', '01-09-2024, Sevilla, 0 - 2, Girona', '15-09-2024, Girona, 1 - 4, Barcelona', '21-09-2024, Valencia, 2 - 0, Girona', '16-08-2024, Las Palmas, 2 - 2, Sevilla', '25-08-2024, Leganes, 2 - 1, Las Palmas', '29-08-2024, Las Palmas, 1 - 1, Real Madrid', '01-09-2024, Alaves, 2 - 0, Las Palmas', '15-09-2024, Las Palmas, 2 - 3, Ath Bilbao', '21-09-2024, Osasuna, 2 - 1, Las Palmas', '17-08-2024, Osasuna, 1 - 1, Leganes', '25-08-2024, Leganes, 2 - 1, Las Palmas', '28-08-2024, Valladolid, 0 - 0, Leganes', '31-08-2024, Leganes, 0 - 1, Mallorca', '13-09-2024, Betis, 2 - 0, Leganes', '19-09-2024, Leganes, 0 - 2, Ath Bilbao', 'Next match: 22-09-2024 Getafe vs Leganes, , , ', 'Next match O/U 2.5 odds vs Getafe\\n3.40, , , ', '18-08-2024, Mallorca, 1 - 1, Real Madrid', '24-08-2024, Osasuna, 1 - 0, Mallorca', '27-08-2024, Mallorca, 0 - 0, Sevilla', '31-08-2024, Leganes, 0 - 1, Mallorca', '14-09-2024, Mallorca, 1 - 2, Villarreal', '17-09-2024, Mallorca, 1 - 0, Sociedad', 'Next match: 24-09-2024 Betis vs Mallorca, , , ', 'Next match O/U 2.5 odds vs Betis\\n2.50, , , ', '17-08-2024, Osasuna, 1 - 1, Leganes', '24-08-2024, Osasuna, 1 - 0, Mallorca', '29-08-2024, Girona, 4 - 0, Osasuna', '01-09-2024, Osasuna, 3 - 2, Celta', '16-09-2024, Vallecano, 3 - 1, Osasuna', '21-09-2024, Osasuna, 2 - 1, Las Palmas', 'Next match: 24-09-2024 Valencia vs Osasuna, , , ', 'Next match O/U 2.5 odds vs Valencia\\n2.38, , , ', '18-08-2024, Mallorca, 1 - 1, Real Madrid', '25-08-2024, Real Madrid, 3 - 0, Valladolid', '29-08-2024, Las Palmas, 1 - 1, Real Madrid', '01-09-2024, Real Madrid, 2 - 0, Betis', '14-09-2024, Sociedad, 0 - 2, Real Madrid', '21-09-2024, Real Madrid, 4 - 1, Espanol', 'Next match: 25-09-2024 Real Madrid vs Alaves, , , ', 'Next match O/U 2.5 odds vs Alaves\\n1.53, , , ', '16-08-2024, Las Palmas, 2 - 2, Sevilla', '23-08-2024, Sevilla, 1 - 2, Villarreal', '27-08-2024, Mallorca, 0 - 0, Sevilla', '01-09-2024, Sevilla, 0 - 2, Girona', '14-09-2024, Sevilla, 1 - 0, Getafe', '20-09-2024, Alaves, 2 - 1, Sevilla', 'Next match: 24-09-2024 Sevilla vs Valladolid, , , ', 'Next match O/U 2.5 odds vs Valladolid\\n2.00, , , ', '18-08-2024, Sociedad, 1 - 2, Vallecano', '24-08-2024, Espanol, 0 - 1, Sociedad', '28-08-2024, Sociedad, 1 - 2, Alaves', '01-09-2024, Getafe, 0 - 0, Sociedad', '14-09-2024, Sociedad, 0 - 2, Real Madrid', '17-09-2024, Mallorca, 1 - 0, Sociedad', '21-09-2024, Valladolid, 0 - 0, Sociedad', '17-08-2024, Valencia, 1 - 2, Barcelona', '23-08-2024, Celta, 3 - 1, Valencia', '28-08-2024, Ath Bilbao, 1 - 0, Valencia', '31-08-2024, Valencia, 1 - 1, Villarreal', '15-09-2024, Ath Madrid, 3 - 0, Valencia', '21-09-2024, Valencia, 2 - 0, Girona', 'Next match: 24-09-2024 Valencia vs Osasuna, , , ', 'Next match O/U 2.5 odds vs Osasuna\\n2.38, , , ', '19-08-2024, Valladolid, 1 - 0, Espanol', '25-08-2024, Real Madrid, 3 - 0, Valladolid', '28-08-2024, Valladolid, 0 - 0, Leganes', '31-08-2024, Barcelona, 7 - 0, Valladolid', '15-09-2024, Celta, 3 - 1, Valladolid', '21-09-2024, Valladolid, 0 - 0, Sociedad', 'Next match: 24-09-2024 Sevilla vs Valladolid, , , ', 'Next match O/U 2.5 odds vs Sevilla\\n2.00, , , ', '18-08-2024, Sociedad, 1 - 2, Vallecano', '24-08-2024, Getafe, 0 - 0, Vallecano', '27-08-2024, Vallecano, 1 - 2, Barcelona', '31-08-2024, Espanol, 2 - 1, Vallecano', '16-09-2024, Vallecano, 3 - 1, Osasuna', 'Next match: 23-09-2024 Vallecano vs Ath Madrid, , , ', 'Next match O/U 2.5 odds vs Ath Madrid\\n2.20, , , ', '19-08-2024, Villarreal, 2 - 2, Ath Madrid', '23-08-2024, Sevilla, 1 - 2, Villarreal', '26-08-2024, Villarreal, 4 - 3, Celta', '31-08-2024, Valencia, 1 - 1, Villarreal', '14-09-2024, Mallorca, 1 - 2, Villarreal', 'Next match: 22-09-2024 Villarreal vs Barcelona, , , ', 'Next match O/U 2.5 odds vs Barcelona\\n1.40, , , ']\n"
     ]
    }
   ],
   "source": [
    "# Function to extract text safely from an element using XPath\n",
    "def get_text_or_empty(match, xpath):\n",
    "    try:\n",
    "        return match.find_element(By.XPATH, xpath).text\n",
    "    except:\n",
    "        return ''  # Return an empty string if the element is not found or another error occurs\n",
    "\n",
    "# List of all match rows\n",
    "matches = driver.find_elements(By.TAG_NAME, 'tr')\n",
    "\n",
    "# Initializing lists for data\n",
    "date_data = []\n",
    "home_team = []\n",
    "goals = []\n",
    "away_team = []\n",
    "final = [['Date', 'Home Team', 'Goals', 'Away Team']]  # Adding header\n",
    "all_matches = []\n",
    "\n",
    "# Loop through each match row and extract data\n",
    "for match in matches:\n",
    "    # Extracting each column safely using the helper function\n",
    "    date = get_text_or_empty(match, './td[1]')\n",
    "    home = get_text_or_empty(match, './td[2]')\n",
    "    goal = get_text_or_empty(match, './td[3]')\n",
    "    away = get_text_or_empty(match, './td[4]')\n",
    "    \n",
    "    # Append data to the respective lists\n",
    "    date_data.append(date)\n",
    "    home_team.append(home)\n",
    "    goals.append(goal)\n",
    "    away_team.append(away)\n",
    "\n",
    "    # Optional: Add the row to the final and all_matches lists\n",
    "    final.append([date, home, goal, away])\n",
    "    all_matches.append(f\"{date}, {home}, {goal}, {away}\")\n",
    "\n",
    "# Output for testing\n",
    "print(all_matches)"
   ]
  },
  {
   "cell_type": "markdown",
   "id": "bdb3c957-d33a-414c-83d9-0366ffad9cb3",
   "metadata": {},
   "source": [
    "## FootBall Match Record Convert into DataFrame"
   ]
  },
  {
   "cell_type": "code",
   "execution_count": 61,
   "id": "7235c532-dce5-4fe7-82e9-1fcb63aa9ab1",
   "metadata": {},
   "outputs": [
    {
     "name": "stdout",
     "output_type": "stream",
     "text": [
      "                                  type\n",
      "0     16-08-2024, Celta, 2 - 1, Alaves\n",
      "1     25-08-2024, Alaves, 0 - 0, Betis\n",
      "2  28-08-2024, Sociedad, 1 - 2, Alaves\n",
      "         Date Home Team  Goals Away Team\n",
      "0  16-08-2024     Celta  2 - 1    Alaves\n",
      "1  25-08-2024    Alaves  0 - 0     Betis\n",
      "2  28-08-2024  Sociedad  1 - 2    Alaves\n",
      "            0          1      2          3\n",
      "0        Date  Home Team  Goals  Away Team\n",
      "1  16-08-2024      Celta  2 - 1     Alaves\n",
      "2  25-08-2024     Alaves  0 - 0      Betis\n"
     ]
    }
   ],
   "source": [
    "df1 = pd.DataFrame({\"Date\" : date_data, \"Home Team\" : home_team, \"Goals\" : goals, \"Away Team\" : away_team})\n",
    "df2 = pd.DataFrame(final)\n",
    "# print(df1.head(3))\n",
    "# print(df2.head(3))\n",
    "\n",
    "df = pd.DataFrame({\"type\" : all_matches})\n"
   ]
  },
  {
   "cell_type": "markdown",
   "id": "921aea74-1e3f-4f19-baef-5c34b213790a",
   "metadata": {},
   "source": [
    "## 6. Convert DataFrame to CSV file"
   ]
  },
  {
   "cell_type": "code",
   "execution_count": 67,
   "id": "9d402b1b-84be-4cf2-a8ff-549ab8a86220",
   "metadata": {},
   "outputs": [],
   "source": [
    "\n",
    "csv_file_name = f\"{country}-{league}-{season}.csv\"\n",
    "df1.to_csv(csv_file_name)"
   ]
  },
  {
   "cell_type": "code",
   "execution_count": null,
   "id": "84954ef5-1c01-4602-9f93-ed32d682e89f",
   "metadata": {},
   "outputs": [],
   "source": []
  },
  {
   "cell_type": "code",
   "execution_count": null,
   "id": "47faebf9-af89-4846-b5f2-e6fd5f0f8642",
   "metadata": {},
   "outputs": [],
   "source": []
  },
  {
   "cell_type": "markdown",
   "id": "7df62989-2826-4d7b-9214-e3ad577f8ea0",
   "metadata": {},
   "source": [
    "## Project - Extract FootBall Match Data"
   ]
  },
  {
   "cell_type": "code",
   "execution_count": 1,
   "id": "13e69402-b8d7-4e98-ae03-129ecf4c2f5a",
   "metadata": {},
   "outputs": [
    {
     "name": "stdin",
     "output_type": "stream",
     "text": [
      "Enter a football Country Name :  Spain\n"
     ]
    },
    {
     "name": "stdout",
     "output_type": "stream",
     "text": [
      "Spain League's -\n",
      "La Liga\n",
      "Segunda Division\n",
      "Primera Division Women\n",
      "\n",
      "Spain Season's -\n",
      "2024/2025\n",
      "23/24\n",
      "22/23\n",
      "21/22\n"
     ]
    },
    {
     "name": "stdin",
     "output_type": "stream",
     "text": [
      "Enter a Football League like Previous Output :  Segunda Division\n",
      "Enter a Football Season like Previous Output :  22/23\n"
     ]
    },
    {
     "name": "stdout",
     "output_type": "stream",
     "text": [
      "         Date Home Team  Goals   Away Team\n",
      "0  13-08-2022   Leganes  1 - 2      Alaves\n",
      "1  19-08-2022    Alaves  1 - 0    Mirandes\n",
      "2  28-08-2022     Ibiza  1 - 1      Alaves\n",
      "3  03-09-2022    Alaves  1 - 1  Las Palmas\n",
      "4  10-09-2022      Lugo  1 - 2      Alaves\n",
      "Spain_Segunda_Division_22_23.csv\n"
     ]
    },
    {
     "name": "stdin",
     "output_type": "stream",
     "text": [
      "If you Continue press 1 otherwise press 2 :  2\n"
     ]
    }
   ],
   "source": [
    "# ============================================= import all necessary packages =============================================\n",
    "from selenium import webdriver\n",
    "from selenium.webdriver.chrome.service import Service\n",
    "from selenium.webdriver.common.by import By\n",
    "from selenium.webdriver.support.ui import Select\n",
    "import pandas as pd\n",
    "import time\n",
    "from selenium.common.exceptions import StaleElementReferenceException, NoSuchElementException, TimeoutException\n",
    "\n",
    "\n",
    "# ============================================= Load Website =============================================\n",
    "# Set up the WebDriver \n",
    "driver_path = 'E:/Dowmnload/Driver/chromedriver.exe' \n",
    "service = Service(driver_path)  # Create a Service object\n",
    "driver = webdriver.Chrome(service=service)  # Initialize the WebDriver using the Service object\n",
    "\n",
    "# Load the website\n",
    "url = 'https://www.adamchoi.co.uk/overs/detailed'\n",
    "driver.get(url)\n",
    "\n",
    "time.sleep(5) # Wait 5 second for wesite load\n",
    "\n",
    "\n",
    "# ============================================= CLick All Match Button And Show All Match =============================================\n",
    "all_match = driver.find_element(By.XPATH, \"\"\"//*[@id=\"page-wrapper\"]/div/home-away-selector/div/div/div/div/label[2]\"\"\")\n",
    "all_match.click()\n",
    "time.sleep(2) # Wait 2 second for wesite load\n",
    "\n",
    "\n",
    "# ============================================= Take Input for different Country Name And set it in webpage. ========================================\n",
    "while True:\n",
    "    country = input('Enter a football Country Name : ')\n",
    "    dropdown_country = Select(driver.find_element(By.ID, \"country\"))\n",
    "    try:\n",
    "        dropdown_country.select_by_visible_text(country)\n",
    "        time.sleep(2) # Wait 2 second for wesite load\n",
    "        #  ============================== Selecting Elements Within a DropDown Manue And Get all dropdown values ==============================\n",
    "        dropdown_league = Select(driver.find_element(By.ID, \"league\"))\n",
    "        # Get all dropdown values (options)\n",
    "        all_league = dropdown_league.options\n",
    "        # Loop through the options and print the text of each option\n",
    "        print(country, \"League's -\")\n",
    "        for option in all_league:\n",
    "            print(option.text)\n",
    "        \n",
    "        print()\n",
    "        \n",
    "        dropdown_season = Select(driver.find_element(By.ID, \"season\"))\n",
    "        # Get all dropdown values (options)\n",
    "        all_season = dropdown_season.options\n",
    "        # Loop through the options and print the text of each option\n",
    "        print(country, \"Season's -\")\n",
    "        for option in all_season:\n",
    "            print(option.text)\n",
    "        time.sleep(1) # Wait 1 second for wesite load\n",
    "            \n",
    "    \n",
    "        # ============================== Search with League and Season ==============================\n",
    "        while True:\n",
    "            try:\n",
    "                league = input('Enter a Football League like Previous Output : ')\n",
    "                dropdown_league.select_by_visible_text(league)\n",
    "                break\n",
    "            except(NoSuchElementException, TimeoutException, StaleElementReferenceException):\n",
    "                print(\"Wrong league!❌ Enter a Correct League Like Previous Output.\", all_league[0].text)\n",
    "                dropdown_league.select_by_visible_text(all_league[0].text)\n",
    "        time.sleep(2) # Wait 2 second for wesite load\n",
    "        while True:\n",
    "            try:\n",
    "                season = input('Enter a Football Season like Previous Output : ')\n",
    "                dropdown_season.select_by_visible_text(season)\n",
    "                break\n",
    "            except(NoSuchElementException, TimeoutException, StaleElementReferenceException):\n",
    "                print(\"Wrong Season!❌ Enter a Correct Season Like Previous Output.\")\n",
    "                dropdown_season.select_by_visible_text(all_season[0].text)\n",
    "        \n",
    "        \n",
    "        time.sleep(2) # Wait 2 second for wesite load\n",
    "        # ============================== Collect All FootBall Match Record ==============================\n",
    "        # Function to extract text safely from an element using XPath\n",
    "        def get_text_or_empty(match, xpath):\n",
    "            try:\n",
    "                return match.find_element(By.XPATH, xpath).text\n",
    "            except:\n",
    "                return ''  # Return an empty string if the element is not found or another error occurs\n",
    "        \n",
    "        # List of all match rows\n",
    "        matches = driver.find_elements(By.TAG_NAME, 'tr')\n",
    "        \n",
    "        # Initializing lists for data\n",
    "        date_data = []\n",
    "        home_team = []\n",
    "        goals = []\n",
    "        away_team = []\n",
    "        final = [['Date', 'Home Team', 'Goals', 'Away Team']]  # Adding header\n",
    "        all_matches = []\n",
    "        \n",
    "        # Loop through each match row and extract data\n",
    "        for match in matches:\n",
    "            # Extracting each column safely using the helper function\n",
    "            date = get_text_or_empty(match, './td[1]')\n",
    "            home = get_text_or_empty(match, './td[2]')\n",
    "            goal = get_text_or_empty(match, './td[3]')\n",
    "            away = get_text_or_empty(match, './td[4]')\n",
    "            \n",
    "            # Append data to the respective lists\n",
    "            date_data.append(date)\n",
    "            home_team.append(home)\n",
    "            goals.append(goal)\n",
    "            away_team.append(away)\n",
    "        \n",
    "            # Optional: Add the row to the final and all_matches lists\n",
    "            final.append([date, home, goal, away])\n",
    "            all_matches.append(f\"{date}, {home}, {goal}, {away}\")\n",
    "        \n",
    "        # Output for testing\n",
    "        # print(all_matches)\n",
    "        \n",
    "        # ============================== FootBall Match Record Convert into DataFrame ==============================\n",
    "        df1 = pd.DataFrame(final)\n",
    "        df2 = pd.DataFrame({\"type\" : all_matches})\n",
    "        # print(df1.head(3))\n",
    "        # print(df2.head(3))\n",
    "        df = pd.DataFrame({\"Date\" : date_data, \"Home Team\" : home_team, \"Goals\" : goals, \"Away Team\" : away_team})\n",
    "        print(df.head(5))\n",
    "        \n",
    "        # ============================== Convert DataFrame to CSV file ==============================\n",
    "        try:\n",
    "            country = country.replace(\" \", \"_\")\n",
    "            league = league.replace(\" \", \"_\")\n",
    "            season = season.replace(\"/\", \"_\")\n",
    "            csv_file_name = f\"{country}_{league}_{season}.csv\"\n",
    "            print(csv_file_name)\n",
    "            df.to_csv(csv_file_name)\n",
    "            tem = int(input('If you Continue press 1 otherwise press 2 : '))\n",
    "            if tem == 2:\n",
    "                break\n",
    "        except:\n",
    "            print(\"change file name\")\n",
    "    except:\n",
    "        print(\"Enter a Correct Country Name, first letter must be capitalized Like (Spain, Saudi Arabia).\")\n",
    "    \n",
    "    "
   ]
  },
  {
   "cell_type": "code",
   "execution_count": null,
   "id": "f20f5f06-4fcb-49b2-953e-427e79222d22",
   "metadata": {},
   "outputs": [],
   "source": []
  }
 ],
 "metadata": {
  "kernelspec": {
   "display_name": "Python 3 (ipykernel)",
   "language": "python",
   "name": "python3"
  },
  "language_info": {
   "codemirror_mode": {
    "name": "ipython",
    "version": 3
   },
   "file_extension": ".py",
   "mimetype": "text/x-python",
   "name": "python",
   "nbconvert_exporter": "python",
   "pygments_lexer": "ipython3",
   "version": "3.11.7"
  }
 },
 "nbformat": 4,
 "nbformat_minor": 5
}
